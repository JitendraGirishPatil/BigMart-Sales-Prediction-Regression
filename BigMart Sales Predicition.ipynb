{
 "cells": [
  {
   "cell_type": "markdown",
   "id": "7d6ae82a",
   "metadata": {},
   "source": [
    "# <center><div class=\"alert alert-info\">BigMart Sales Prediciton</div>\n",
    "### <center> By - Jitendra Girish Patil"
   ]
  },
  {
   "cell_type": "markdown",
   "id": "fee00f6f",
   "metadata": {},
   "source": [
    "## Store Sales Prediction\n",
    "\n",
    "The success of any retail store depends upon its sales. More the sales made, more is the revenue. With a good customer service and care, the customer too enjoys a good shopping experience. This will lead to more in-flow of customers, opening  more store branches across a city / country. \n",
    "\n",
    "To enable this, store owners rely heavily on past data to predict future sales. This will help them in strategizing their  business models and come up with innovative techniques and ideas to attract customers and set realistic goals.\n",
    "\n",
    "Many medium to large stores implement this kind of analytics to understand trends like which products are getting sold  faster, what are the slow moving products, impact of store types, etc. With new branches of the store, the analysis can get  more complex and may also involve stiff competition from other competitors.\n",
    "\n",
    "To get the better results for property owners, building a predictive model to determine the grade of house from A to E is required."
   ]
  },
  {
   "cell_type": "markdown",
   "id": "a17517f9",
   "metadata": {},
   "source": [
    "### <center><div class=\"alert alert-info\">IMPORTING LIBRARIES</div>"
   ]
  },
  {
   "cell_type": "code",
   "execution_count": 10,
   "id": "55dcc9be",
   "metadata": {},
   "outputs": [],
   "source": [
    "import numpy as np                       # for numerical operation\n",
    "import pandas as pd                      # for dataset handling\n",
    "import matplotlib.pyplot as plt          # for data visualization\n",
    "import seaborn as sb                     # for making statistical graphs\n",
    "import warnings\n",
    "warnings.filterwarnings('ignore')        # for warnings\n",
    "from sklearn.model_selection import train_test_split   # for splitting the data\n",
    "from sklearn import preprocessing        # for data preprocessing functions\n",
    "from sklearn.preprocessing import MinMaxScaler, StandardScaler, LabelEncoder      # for scaling\n",
    "from sklearn.metrics import mean_squared_error     # for accuracy calculation or evaluation\n",
    "from sklearn.linear_model import LinearRegression  # for algorithm"
   ]
  },
  {
   "cell_type": "markdown",
   "id": "c917567c",
   "metadata": {},
   "source": [
    "### <center><div class=\"alert alert-info\">DATA EXPLORATION</div>"
   ]
  },
  {
   "cell_type": "markdown",
   "id": "4f62d12e",
   "metadata": {},
   "source": [
    "### Importing the data set"
   ]
  },
  {
   "cell_type": "code",
   "execution_count": 2,
   "id": "5c99976a",
   "metadata": {},
   "outputs": [
    {
     "data": {
      "text/html": [
       "<div>\n",
       "<style scoped>\n",
       "    .dataframe tbody tr th:only-of-type {\n",
       "        vertical-align: middle;\n",
       "    }\n",
       "\n",
       "    .dataframe tbody tr th {\n",
       "        vertical-align: top;\n",
       "    }\n",
       "\n",
       "    .dataframe thead th {\n",
       "        text-align: right;\n",
       "    }\n",
       "</style>\n",
       "<table border=\"1\" class=\"dataframe\">\n",
       "  <thead>\n",
       "    <tr style=\"text-align: right;\">\n",
       "      <th></th>\n",
       "      <th>Item_Identifier</th>\n",
       "      <th>Item_Weight</th>\n",
       "      <th>Item_Fat_Content</th>\n",
       "      <th>Item_Visibility</th>\n",
       "      <th>Item_Type</th>\n",
       "      <th>Item_MRP</th>\n",
       "      <th>Outlet_Identifier</th>\n",
       "      <th>Outlet_Establishment_Year</th>\n",
       "      <th>Outlet_Size</th>\n",
       "      <th>Outlet_Location_Type</th>\n",
       "      <th>Outlet_Type</th>\n",
       "      <th>Item_Outlet_Sales</th>\n",
       "    </tr>\n",
       "  </thead>\n",
       "  <tbody>\n",
       "    <tr>\n",
       "      <th>0</th>\n",
       "      <td>FDA15</td>\n",
       "      <td>9.30</td>\n",
       "      <td>Low Fat</td>\n",
       "      <td>0.016047</td>\n",
       "      <td>Dairy</td>\n",
       "      <td>249.8092</td>\n",
       "      <td>OUT049</td>\n",
       "      <td>1999</td>\n",
       "      <td>Medium</td>\n",
       "      <td>Tier 1</td>\n",
       "      <td>Supermarket Type1</td>\n",
       "      <td>3735.1380</td>\n",
       "    </tr>\n",
       "    <tr>\n",
       "      <th>1</th>\n",
       "      <td>DRC01</td>\n",
       "      <td>5.92</td>\n",
       "      <td>Regular</td>\n",
       "      <td>0.019278</td>\n",
       "      <td>Soft Drinks</td>\n",
       "      <td>48.2692</td>\n",
       "      <td>OUT018</td>\n",
       "      <td>2009</td>\n",
       "      <td>Medium</td>\n",
       "      <td>Tier 3</td>\n",
       "      <td>Supermarket Type2</td>\n",
       "      <td>443.4228</td>\n",
       "    </tr>\n",
       "    <tr>\n",
       "      <th>2</th>\n",
       "      <td>FDN15</td>\n",
       "      <td>17.50</td>\n",
       "      <td>Low Fat</td>\n",
       "      <td>0.016760</td>\n",
       "      <td>Meat</td>\n",
       "      <td>141.6180</td>\n",
       "      <td>OUT049</td>\n",
       "      <td>1999</td>\n",
       "      <td>Medium</td>\n",
       "      <td>Tier 1</td>\n",
       "      <td>Supermarket Type1</td>\n",
       "      <td>2097.2700</td>\n",
       "    </tr>\n",
       "    <tr>\n",
       "      <th>3</th>\n",
       "      <td>FDX07</td>\n",
       "      <td>19.20</td>\n",
       "      <td>Regular</td>\n",
       "      <td>0.074402</td>\n",
       "      <td>Fruits and Vegetables</td>\n",
       "      <td>182.0950</td>\n",
       "      <td>OUT010</td>\n",
       "      <td>1998</td>\n",
       "      <td>Medium</td>\n",
       "      <td>Tier 3</td>\n",
       "      <td>Grocery Store</td>\n",
       "      <td>732.3800</td>\n",
       "    </tr>\n",
       "    <tr>\n",
       "      <th>4</th>\n",
       "      <td>NCD19</td>\n",
       "      <td>8.93</td>\n",
       "      <td>Low Fat</td>\n",
       "      <td>0.064299</td>\n",
       "      <td>Household</td>\n",
       "      <td>53.8614</td>\n",
       "      <td>OUT013</td>\n",
       "      <td>1987</td>\n",
       "      <td>High</td>\n",
       "      <td>Tier 3</td>\n",
       "      <td>Supermarket Type1</td>\n",
       "      <td>994.7052</td>\n",
       "    </tr>\n",
       "    <tr>\n",
       "      <th>...</th>\n",
       "      <td>...</td>\n",
       "      <td>...</td>\n",
       "      <td>...</td>\n",
       "      <td>...</td>\n",
       "      <td>...</td>\n",
       "      <td>...</td>\n",
       "      <td>...</td>\n",
       "      <td>...</td>\n",
       "      <td>...</td>\n",
       "      <td>...</td>\n",
       "      <td>...</td>\n",
       "      <td>...</td>\n",
       "    </tr>\n",
       "    <tr>\n",
       "      <th>14199</th>\n",
       "      <td>FDB58</td>\n",
       "      <td>10.50</td>\n",
       "      <td>Regular</td>\n",
       "      <td>0.013496</td>\n",
       "      <td>Snack Foods</td>\n",
       "      <td>141.3154</td>\n",
       "      <td>OUT046</td>\n",
       "      <td>1997</td>\n",
       "      <td>Small</td>\n",
       "      <td>Tier 1</td>\n",
       "      <td>Supermarket Type1</td>\n",
       "      <td>NaN</td>\n",
       "    </tr>\n",
       "    <tr>\n",
       "      <th>14200</th>\n",
       "      <td>FDD47</td>\n",
       "      <td>7.60</td>\n",
       "      <td>Regular</td>\n",
       "      <td>0.142991</td>\n",
       "      <td>Starchy Foods</td>\n",
       "      <td>169.1448</td>\n",
       "      <td>OUT018</td>\n",
       "      <td>2009</td>\n",
       "      <td>Medium</td>\n",
       "      <td>Tier 3</td>\n",
       "      <td>Supermarket Type2</td>\n",
       "      <td>NaN</td>\n",
       "    </tr>\n",
       "    <tr>\n",
       "      <th>14201</th>\n",
       "      <td>NCO17</td>\n",
       "      <td>10.00</td>\n",
       "      <td>Low Fat</td>\n",
       "      <td>0.073529</td>\n",
       "      <td>Health and Hygiene</td>\n",
       "      <td>118.7440</td>\n",
       "      <td>OUT045</td>\n",
       "      <td>2002</td>\n",
       "      <td>Small</td>\n",
       "      <td>Tier 2</td>\n",
       "      <td>Supermarket Type1</td>\n",
       "      <td>NaN</td>\n",
       "    </tr>\n",
       "    <tr>\n",
       "      <th>14202</th>\n",
       "      <td>FDJ26</td>\n",
       "      <td>15.30</td>\n",
       "      <td>Regular</td>\n",
       "      <td>0.064709</td>\n",
       "      <td>Canned</td>\n",
       "      <td>214.6218</td>\n",
       "      <td>OUT017</td>\n",
       "      <td>2007</td>\n",
       "      <td>Small</td>\n",
       "      <td>Tier 2</td>\n",
       "      <td>Supermarket Type1</td>\n",
       "      <td>NaN</td>\n",
       "    </tr>\n",
       "    <tr>\n",
       "      <th>14203</th>\n",
       "      <td>FDU37</td>\n",
       "      <td>9.50</td>\n",
       "      <td>Regular</td>\n",
       "      <td>0.104720</td>\n",
       "      <td>Canned</td>\n",
       "      <td>79.7960</td>\n",
       "      <td>OUT045</td>\n",
       "      <td>2002</td>\n",
       "      <td>Small</td>\n",
       "      <td>Tier 2</td>\n",
       "      <td>Supermarket Type1</td>\n",
       "      <td>NaN</td>\n",
       "    </tr>\n",
       "  </tbody>\n",
       "</table>\n",
       "<p>14204 rows × 12 columns</p>\n",
       "</div>"
      ],
      "text/plain": [
       "      Item_Identifier  Item_Weight Item_Fat_Content  Item_Visibility  \\\n",
       "0               FDA15         9.30          Low Fat         0.016047   \n",
       "1               DRC01         5.92          Regular         0.019278   \n",
       "2               FDN15        17.50          Low Fat         0.016760   \n",
       "3               FDX07        19.20          Regular         0.074402   \n",
       "4               NCD19         8.93          Low Fat         0.064299   \n",
       "...               ...          ...              ...              ...   \n",
       "14199           FDB58        10.50          Regular         0.013496   \n",
       "14200           FDD47         7.60          Regular         0.142991   \n",
       "14201           NCO17        10.00          Low Fat         0.073529   \n",
       "14202           FDJ26        15.30          Regular         0.064709   \n",
       "14203           FDU37         9.50          Regular         0.104720   \n",
       "\n",
       "                   Item_Type  Item_MRP Outlet_Identifier  \\\n",
       "0                      Dairy  249.8092            OUT049   \n",
       "1                Soft Drinks   48.2692            OUT018   \n",
       "2                       Meat  141.6180            OUT049   \n",
       "3      Fruits and Vegetables  182.0950            OUT010   \n",
       "4                  Household   53.8614            OUT013   \n",
       "...                      ...       ...               ...   \n",
       "14199            Snack Foods  141.3154            OUT046   \n",
       "14200          Starchy Foods  169.1448            OUT018   \n",
       "14201     Health and Hygiene  118.7440            OUT045   \n",
       "14202                 Canned  214.6218            OUT017   \n",
       "14203                 Canned   79.7960            OUT045   \n",
       "\n",
       "       Outlet_Establishment_Year Outlet_Size Outlet_Location_Type  \\\n",
       "0                           1999      Medium               Tier 1   \n",
       "1                           2009      Medium               Tier 3   \n",
       "2                           1999      Medium               Tier 1   \n",
       "3                           1998      Medium               Tier 3   \n",
       "4                           1987        High               Tier 3   \n",
       "...                          ...         ...                  ...   \n",
       "14199                       1997       Small               Tier 1   \n",
       "14200                       2009      Medium               Tier 3   \n",
       "14201                       2002       Small               Tier 2   \n",
       "14202                       2007       Small               Tier 2   \n",
       "14203                       2002       Small               Tier 2   \n",
       "\n",
       "             Outlet_Type  Item_Outlet_Sales  \n",
       "0      Supermarket Type1          3735.1380  \n",
       "1      Supermarket Type2           443.4228  \n",
       "2      Supermarket Type1          2097.2700  \n",
       "3          Grocery Store           732.3800  \n",
       "4      Supermarket Type1           994.7052  \n",
       "...                  ...                ...  \n",
       "14199  Supermarket Type1                NaN  \n",
       "14200  Supermarket Type2                NaN  \n",
       "14201  Supermarket Type1                NaN  \n",
       "14202  Supermarket Type1                NaN  \n",
       "14203  Supermarket Type1                NaN  \n",
       "\n",
       "[14204 rows x 12 columns]"
      ]
     },
     "execution_count": 2,
     "metadata": {},
     "output_type": "execute_result"
    }
   ],
   "source": [
    "df = pd.read_csv('DS3_C6_S1_Regression_StoreSales_Data_Project.csv')\n",
    "df"
   ]
  },
  {
   "cell_type": "markdown",
   "id": "409d0b31",
   "metadata": {},
   "source": [
    "### Checking Shape and Data type of dataset"
   ]
  },
  {
   "cell_type": "code",
   "execution_count": 3,
   "id": "8f072cdf",
   "metadata": {},
   "outputs": [
    {
     "data": {
      "text/plain": [
       "(14204, 12)"
      ]
     },
     "execution_count": 3,
     "metadata": {},
     "output_type": "execute_result"
    }
   ],
   "source": [
    "# chekcing shape\n",
    "df.shape"
   ]
  },
  {
   "cell_type": "code",
   "execution_count": 4,
   "id": "a6b2153b",
   "metadata": {},
   "outputs": [
    {
     "data": {
      "text/plain": [
       "Item_Identifier               object\n",
       "Item_Weight                  float64\n",
       "Item_Fat_Content              object\n",
       "Item_Visibility              float64\n",
       "Item_Type                     object\n",
       "Item_MRP                     float64\n",
       "Outlet_Identifier             object\n",
       "Outlet_Establishment_Year      int64\n",
       "Outlet_Size                   object\n",
       "Outlet_Location_Type          object\n",
       "Outlet_Type                   object\n",
       "Item_Outlet_Sales            float64\n",
       "dtype: object"
      ]
     },
     "execution_count": 4,
     "metadata": {},
     "output_type": "execute_result"
    }
   ],
   "source": [
    "# checking dtypes\n",
    "df.dtypes"
   ]
  },
  {
   "cell_type": "markdown",
   "id": "75da2251",
   "metadata": {},
   "source": [
    "### Checking information and description"
   ]
  },
  {
   "cell_type": "code",
   "execution_count": 5,
   "id": "b147469c",
   "metadata": {},
   "outputs": [
    {
     "data": {
      "text/html": [
       "<div>\n",
       "<style scoped>\n",
       "    .dataframe tbody tr th:only-of-type {\n",
       "        vertical-align: middle;\n",
       "    }\n",
       "\n",
       "    .dataframe tbody tr th {\n",
       "        vertical-align: top;\n",
       "    }\n",
       "\n",
       "    .dataframe thead th {\n",
       "        text-align: right;\n",
       "    }\n",
       "</style>\n",
       "<table border=\"1\" class=\"dataframe\">\n",
       "  <thead>\n",
       "    <tr style=\"text-align: right;\">\n",
       "      <th></th>\n",
       "      <th>Item_Weight</th>\n",
       "      <th>Item_Visibility</th>\n",
       "      <th>Item_MRP</th>\n",
       "      <th>Outlet_Establishment_Year</th>\n",
       "      <th>Item_Outlet_Sales</th>\n",
       "    </tr>\n",
       "  </thead>\n",
       "  <tbody>\n",
       "    <tr>\n",
       "      <th>count</th>\n",
       "      <td>14204.000000</td>\n",
       "      <td>14204.000000</td>\n",
       "      <td>14204.000000</td>\n",
       "      <td>14204.000000</td>\n",
       "      <td>8523.000000</td>\n",
       "    </tr>\n",
       "    <tr>\n",
       "      <th>mean</th>\n",
       "      <td>12.793380</td>\n",
       "      <td>0.070301</td>\n",
       "      <td>141.004977</td>\n",
       "      <td>1997.830681</td>\n",
       "      <td>2181.288914</td>\n",
       "    </tr>\n",
       "    <tr>\n",
       "      <th>std</th>\n",
       "      <td>4.651716</td>\n",
       "      <td>0.048621</td>\n",
       "      <td>62.086938</td>\n",
       "      <td>8.371664</td>\n",
       "      <td>1706.499616</td>\n",
       "    </tr>\n",
       "    <tr>\n",
       "      <th>min</th>\n",
       "      <td>4.555000</td>\n",
       "      <td>0.003575</td>\n",
       "      <td>31.290000</td>\n",
       "      <td>1985.000000</td>\n",
       "      <td>33.290000</td>\n",
       "    </tr>\n",
       "    <tr>\n",
       "      <th>25%</th>\n",
       "      <td>8.710000</td>\n",
       "      <td>0.033143</td>\n",
       "      <td>94.012000</td>\n",
       "      <td>1987.000000</td>\n",
       "      <td>834.247400</td>\n",
       "    </tr>\n",
       "    <tr>\n",
       "      <th>50%</th>\n",
       "      <td>12.600000</td>\n",
       "      <td>0.062347</td>\n",
       "      <td>142.247000</td>\n",
       "      <td>1999.000000</td>\n",
       "      <td>1794.331000</td>\n",
       "    </tr>\n",
       "    <tr>\n",
       "      <th>75%</th>\n",
       "      <td>16.750000</td>\n",
       "      <td>0.094037</td>\n",
       "      <td>185.855600</td>\n",
       "      <td>2004.000000</td>\n",
       "      <td>3101.296400</td>\n",
       "    </tr>\n",
       "    <tr>\n",
       "      <th>max</th>\n",
       "      <td>21.350000</td>\n",
       "      <td>0.328391</td>\n",
       "      <td>266.888400</td>\n",
       "      <td>2009.000000</td>\n",
       "      <td>13086.964800</td>\n",
       "    </tr>\n",
       "  </tbody>\n",
       "</table>\n",
       "</div>"
      ],
      "text/plain": [
       "        Item_Weight  Item_Visibility      Item_MRP  Outlet_Establishment_Year  \\\n",
       "count  14204.000000     14204.000000  14204.000000               14204.000000   \n",
       "mean      12.793380         0.070301    141.004977                1997.830681   \n",
       "std        4.651716         0.048621     62.086938                   8.371664   \n",
       "min        4.555000         0.003575     31.290000                1985.000000   \n",
       "25%        8.710000         0.033143     94.012000                1987.000000   \n",
       "50%       12.600000         0.062347    142.247000                1999.000000   \n",
       "75%       16.750000         0.094037    185.855600                2004.000000   \n",
       "max       21.350000         0.328391    266.888400                2009.000000   \n",
       "\n",
       "       Item_Outlet_Sales  \n",
       "count        8523.000000  \n",
       "mean         2181.288914  \n",
       "std          1706.499616  \n",
       "min            33.290000  \n",
       "25%           834.247400  \n",
       "50%          1794.331000  \n",
       "75%          3101.296400  \n",
       "max         13086.964800  "
      ]
     },
     "execution_count": 5,
     "metadata": {},
     "output_type": "execute_result"
    }
   ],
   "source": [
    "# checking description\n",
    "df.describe()"
   ]
  },
  {
   "cell_type": "code",
   "execution_count": 6,
   "id": "8ad5bb2b",
   "metadata": {},
   "outputs": [
    {
     "name": "stdout",
     "output_type": "stream",
     "text": [
      "<class 'pandas.core.frame.DataFrame'>\n",
      "RangeIndex: 14204 entries, 0 to 14203\n",
      "Data columns (total 12 columns):\n",
      " #   Column                     Non-Null Count  Dtype  \n",
      "---  ------                     --------------  -----  \n",
      " 0   Item_Identifier            14204 non-null  object \n",
      " 1   Item_Weight                14204 non-null  float64\n",
      " 2   Item_Fat_Content           14204 non-null  object \n",
      " 3   Item_Visibility            14204 non-null  float64\n",
      " 4   Item_Type                  14204 non-null  object \n",
      " 5   Item_MRP                   14204 non-null  float64\n",
      " 6   Outlet_Identifier          14204 non-null  object \n",
      " 7   Outlet_Establishment_Year  14204 non-null  int64  \n",
      " 8   Outlet_Size                14204 non-null  object \n",
      " 9   Outlet_Location_Type       14204 non-null  object \n",
      " 10  Outlet_Type                14204 non-null  object \n",
      " 11  Item_Outlet_Sales          8523 non-null   float64\n",
      "dtypes: float64(4), int64(1), object(7)\n",
      "memory usage: 1.3+ MB\n"
     ]
    }
   ],
   "source": [
    "# checking information \n",
    "df.info()"
   ]
  },
  {
   "cell_type": "markdown",
   "id": "2056c9d5",
   "metadata": {},
   "source": [
    "### <center><div class=\"alert alert-info\">DATA VISUALISATION</div>"
   ]
  },
  {
   "cell_type": "code",
   "execution_count": 7,
   "id": "4e4d42f4",
   "metadata": {},
   "outputs": [
    {
     "data": {
      "text/plain": [
       "<AxesSubplot:title={'center':'Item MRP - Item Fat Content'}, xlabel='Item_MRP', ylabel='Item_Fat_Content'>"
      ]
     },
     "execution_count": 7,
     "metadata": {},
     "output_type": "execute_result"
    },
    {
     "data": {
      "image/png": "[encoded data removed]",
      "text/plain": [
       "<Figure size 936x936 with 4 Axes>"
      ]
     },
     "metadata": {
      "needs_background": "light"
     },
     "output_type": "display_data"
    }
   ],
   "source": [
    "plt.subplots(2,2,figsize=(13,13))\n",
    "\n",
    "plt.subplot(221)\n",
    "plt.title('Item type - Item Outlet Sale', size=15, fontweight='bold')\n",
    "plt.xlabel('Item Outlet Sales')\n",
    "plt.ylabel('Item Type')\n",
    "sb.boxplot(y=df['Item_Type'],x=df['Item_Outlet_Sales'])\n",
    "\n",
    "plt.subplot(222)\n",
    "plt.title('Outlet Size - Item Outlet Sale', size=15, fontweight='bold')\n",
    "plt.xlabel('Item Outlet Sales')\n",
    "plt.ylabel('Outlet Size')\n",
    "sb.boxplot(y=df['Outlet_Size'],x=df['Item_Outlet_Sales'])\n",
    "\n",
    "plt.subplot(223)\n",
    "plt.title('Outlet Type', size=15, fontweight='bold')\n",
    "plt.xlabel('Outlet Type')\n",
    "sb.countplot(y=df['Outlet_Type'])\n",
    "\n",
    "plt.subplot(224)\n",
    "plt.title('Item MRP - Item Fat Content', size=15, fontweight='bold')\n",
    "plt.xlabel('Item MRP')\n",
    "plt.ylabel('Item Fat Content')\n",
    "sb.boxplot(y=df['Item_Fat_Content'],x=df['Item_MRP'])"
   ]
  },
  {
   "cell_type": "markdown",
   "id": "336c0c4e",
   "metadata": {},
   "source": [
    "### <div class=\"alert alert-success\">Interpretation</div>\n",
    "     * In Item type - Item Outlet Sale graph, we can see Starchy Foods have most of the sales among other food type and            Other category have least.\n",
    "     * In Outlet Size - Item Outlet Sale graph, Medium category have the maximum range from 1000 sales to 7000 sales and          small othlet have lest sales.\n",
    "     * In Outlet Type graph, Supermarket 1 type have the highest count in the data which is more than 8000 in counts.\n",
    "     * In Item MRP - Item Fat Content graph, both the Low and Regular fat food item have almost similar MRP."
   ]
  },
  {
   "cell_type": "code",
   "execution_count": 8,
   "id": "8547e0ea",
   "metadata": {},
   "outputs": [
    {
     "data": {
      "text/plain": [
       "<AxesSubplot:title={'center':'Item_Outlet_Sales'}, xlabel='Item_Outlet_Sales', ylabel='Count'>"
      ]
     },
     "execution_count": 8,
     "metadata": {},
     "output_type": "execute_result"
    },
    {
     "data": {
      "image/png": "[encoded data removed]",
      "text/plain": [
       "<Figure size 936x936 with 4 Axes>"
      ]
     },
     "metadata": {
      "needs_background": "light"
     },
     "output_type": "display_data"
    }
   ],
   "source": [
    "plt.subplots(2,2,figsize=(13,13))\n",
    "\n",
    "plt.subplot(221)\n",
    "plt.title('Item MRP', size=15, fontweight='bold')\n",
    "plt.xlabel('Item MRP')\n",
    "sb.histplot(df['Item_MRP'], bins=20, kde=True)\n",
    "\n",
    "plt.subplot(222)\n",
    "plt.title('Item Weight', size=15, fontweight='bold')\n",
    "plt.xlabel('Item Weight')\n",
    "sb.kdeplot(df['Item_Weight'], shade=True, color='blue')\n",
    "\n",
    "plt.subplot(223)\n",
    "plt.title('Item Visibility', size=15, fontweight='bold')\n",
    "plt.xlabel('Item Visibility')\n",
    "sb.kdeplot(df['Item_Visibility'], shade=True, color='blue')\n",
    "\n",
    "plt.subplot(224)\n",
    "plt.title('Item_Outlet_Sales', size=15, fontweight='bold')\n",
    "plt.xlabel('Item_Outlet_Sales')\n",
    "sb.histplot(df['Item_Outlet_Sales'], bins=20, kde=True)"
   ]
  },
  {
   "cell_type": "markdown",
   "id": "e4eb415a",
   "metadata": {},
   "source": [
    "### <div class=\"alert alert-success\">Interpretation</div>\n",
    "    * In Item MRP graph, Most of the item have MRP of 100-120 and least for more than 250 MRP.\n",
    "    * In Item Weight graph, most of the items have weight from 7-9.\n",
    "    * In Item Visibility grpah, the count is more for 0.02-0.03 and least for 0.3.\n",
    "    * In Item Outlet Sales graph, Most of the sales is of 1000 which is counting upto 1600."
   ]
  },
  {
   "cell_type": "code",
   "execution_count": 9,
   "id": "d2f208fd",
   "metadata": {},
   "outputs": [
    {
     "data": {
      "text/plain": [
       "Text(0.5, 1.0, 'Item Type')"
      ]
     },
     "execution_count": 9,
     "metadata": {},
     "output_type": "execute_result"
    },
    {
     "data": {
      "image/png": "[encoded data removed]",
      "text/plain": [
       "<Figure size 1080x936 with 2 Axes>"
      ]
     },
     "metadata": {},
     "output_type": "display_data"
    }
   ],
   "source": [
    "plt.subplots(1,2,figsize=(15,13))\n",
    "\n",
    "plt.subplot(121)\n",
    "explode = [0.1,0,0,0.1]\n",
    "perc = df['Outlet_Type'].value_counts()\n",
    "lab = list(df['Outlet_Type'].value_counts().index)\n",
    "plt.pie(perc,labels = lab, autopct= \"%0.2f%%\", explode = explode, shadow=True)\n",
    "plt.title('Outlet Type', size=15, fontweight='bold')\n",
    "\n",
    "plt.subplot(122)\n",
    "explode = [0,0.2,0,0,0,0,0,0,0,0,0,0,0,0,0,0.3]\n",
    "perc = df['Item_Type'].value_counts()\n",
    "lab = list(df['Item_Type'].value_counts().index)\n",
    "plt.pie(perc,labels = lab, autopct= \"%0.2f%%\", explode=explode, shadow=True)\n",
    "plt.title('Item Type', size=15, fontweight='bold')"
   ]
  },
  {
   "cell_type": "markdown",
   "id": "cceeebd0",
   "metadata": {},
   "source": [
    "### <div class=\"alert alert-success\">Interpretation</div>\n",
    "    * In Outlet type graph, 65.43% are Supermarket Type1 and least 10.38% are of Supermarket Type2.\n",
    "    * In Item type graph, snack foods is the most served with 14% and Sea food is least searved with only 0.63%"
   ]
  },
  {
   "cell_type": "markdown",
   "id": "dd6aa073",
   "metadata": {},
   "source": [
    "### <center><div class=\"alert alert-info\">DATA PREPROCESSING</div>"
   ]
  },
  {
   "cell_type": "markdown",
   "id": "4bec731e",
   "metadata": {},
   "source": [
    "### Checking Null Values"
   ]
  },
  {
   "cell_type": "code",
   "execution_count": 7,
   "id": "4e57365c",
   "metadata": {},
   "outputs": [
    {
     "data": {
      "text/plain": [
       "Item_Identifier               0.000000\n",
       "Item_Weight                   0.000000\n",
       "Item_Fat_Content              0.000000\n",
       "Item_Visibility               0.000000\n",
       "Item_Type                     0.000000\n",
       "Item_MRP                      0.000000\n",
       "Outlet_Identifier             0.000000\n",
       "Outlet_Establishment_Year     0.000000\n",
       "Outlet_Size                   0.000000\n",
       "Outlet_Location_Type          0.000000\n",
       "Outlet_Type                   0.000000\n",
       "Item_Outlet_Sales            39.995776\n",
       "dtype: float64"
      ]
     },
     "execution_count": 7,
     "metadata": {},
     "output_type": "execute_result"
    }
   ],
   "source": [
    "(df.isnull().sum()*100)/df.shape[0]"
   ]
  },
  {
   "cell_type": "markdown",
   "id": "88ffc99f",
   "metadata": {},
   "source": [
    "* As we can see there are ~40% of null values present in the target column."
   ]
  },
  {
   "cell_type": "markdown",
   "id": "4f8ae538",
   "metadata": {},
   "source": [
    "### Feature Selection - removing unnecessary features"
   ]
  },
  {
   "cell_type": "code",
   "execution_count": 12,
   "id": "c1b204d3",
   "metadata": {},
   "outputs": [],
   "source": [
    "df.drop(['Item_Identifier','Outlet_Identifier'], axis=1, inplace=True)"
   ]
  },
  {
   "cell_type": "markdown",
   "id": "27ff9a8a",
   "metadata": {},
   "source": [
    "### Converting from non numeric to numeric dtypes"
   ]
  },
  {
   "cell_type": "code",
   "execution_count": 13,
   "id": "f85eab54",
   "metadata": {},
   "outputs": [],
   "source": [
    "col = ['Item_Fat_Content','Item_Type','Outlet_Size','Outlet_Type','Outlet_Location_Type','Outlet_Establishment_Year']\n",
    "label_encoder = LabelEncoder()\n",
    "for i in col:\n",
    "    df[i] = df[i].astype('category')\n",
    "    df[i] = label_encoder.fit_transform(df[i])"
   ]
  },
  {
   "cell_type": "code",
   "execution_count": 14,
   "id": "ba90d0cb",
   "metadata": {},
   "outputs": [
    {
     "data": {
      "text/plain": [
       "Item_Weight                  float64\n",
       "Item_Fat_Content               int32\n",
       "Item_Visibility              float64\n",
       "Item_Type                      int32\n",
       "Item_MRP                     float64\n",
       "Outlet_Establishment_Year      int64\n",
       "Outlet_Size                    int32\n",
       "Outlet_Location_Type           int32\n",
       "Outlet_Type                    int32\n",
       "Item_Outlet_Sales            float64\n",
       "dtype: object"
      ]
     },
     "execution_count": 14,
     "metadata": {},
     "output_type": "execute_result"
    }
   ],
   "source": [
    "df.dtypes"
   ]
  },
  {
   "cell_type": "code",
   "execution_count": 15,
   "id": "e1c05658",
   "metadata": {},
   "outputs": [],
   "source": [
    "# using KNNImputer for imputing the values\n",
    "from sklearn.impute import KNNImputer\n",
    "null = KNNImputer(n_neighbors=3)\n",
    "impute= null.fit_transform(df)"
   ]
  },
  {
   "cell_type": "code",
   "execution_count": 16,
   "id": "5d62824c",
   "metadata": {},
   "outputs": [
    {
     "data": {
      "text/plain": [
       "Item_Weight                  0\n",
       "Item_Fat_Content             0\n",
       "Item_Visibility              0\n",
       "Item_Type                    0\n",
       "Item_MRP                     0\n",
       "Outlet_Establishment_Year    0\n",
       "Outlet_Size                  0\n",
       "Outlet_Location_Type         0\n",
       "Outlet_Type                  0\n",
       "Item_Outlet_Sales            0\n",
       "dtype: int64"
      ]
     },
     "execution_count": 16,
     "metadata": {},
     "output_type": "execute_result"
    }
   ],
   "source": [
    "imp = pd.DataFrame(impute)\n",
    "imp.columns = ['Item_Weight', 'Item_Fat_Content', 'Item_Visibility', 'Item_Type','Item_MRP','Outlet_Establishment_Year',\n",
    "               'Outlet_Size', 'Outlet_Location_Type', 'Outlet_Type','Item_Outlet_Sales']\n",
    "imp.isnull().sum()"
   ]
  },
  {
   "cell_type": "markdown",
   "id": "f3cbfc1e",
   "metadata": {},
   "source": [
    "### Scaling the data"
   ]
  },
  {
   "cell_type": "code",
   "execution_count": 17,
   "id": "1e5cd961",
   "metadata": {},
   "outputs": [
    {
     "data": {
      "text/html": [
       "<div>\n",
       "<style scoped>\n",
       "    .dataframe tbody tr th:only-of-type {\n",
       "        vertical-align: middle;\n",
       "    }\n",
       "\n",
       "    .dataframe tbody tr th {\n",
       "        vertical-align: top;\n",
       "    }\n",
       "\n",
       "    .dataframe thead th {\n",
       "        text-align: right;\n",
       "    }\n",
       "</style>\n",
       "<table border=\"1\" class=\"dataframe\">\n",
       "  <thead>\n",
       "    <tr style=\"text-align: right;\">\n",
       "      <th></th>\n",
       "      <th>Item_Weight</th>\n",
       "      <th>Item_Fat_Content</th>\n",
       "      <th>Item_Visibility</th>\n",
       "      <th>Item_Type</th>\n",
       "      <th>Item_MRP</th>\n",
       "      <th>Outlet_Establishment_Year</th>\n",
       "      <th>Outlet_Size</th>\n",
       "      <th>Outlet_Location_Type</th>\n",
       "      <th>Outlet_Type</th>\n",
       "      <th>Item_Outlet_Sales</th>\n",
       "    </tr>\n",
       "  </thead>\n",
       "  <tbody>\n",
       "    <tr>\n",
       "      <th>0</th>\n",
       "      <td>0.282525</td>\n",
       "      <td>0.0</td>\n",
       "      <td>0.038399</td>\n",
       "      <td>0.266667</td>\n",
       "      <td>0.927507</td>\n",
       "      <td>0.500</td>\n",
       "      <td>0.5</td>\n",
       "      <td>0.0</td>\n",
       "      <td>0.333333</td>\n",
       "      <td>0.283587</td>\n",
       "    </tr>\n",
       "    <tr>\n",
       "      <th>1</th>\n",
       "      <td>0.081274</td>\n",
       "      <td>1.0</td>\n",
       "      <td>0.048346</td>\n",
       "      <td>0.933333</td>\n",
       "      <td>0.072068</td>\n",
       "      <td>1.000</td>\n",
       "      <td>0.5</td>\n",
       "      <td>1.0</td>\n",
       "      <td>0.666667</td>\n",
       "      <td>0.031419</td>\n",
       "    </tr>\n",
       "    <tr>\n",
       "      <th>2</th>\n",
       "      <td>0.770765</td>\n",
       "      <td>0.0</td>\n",
       "      <td>0.040593</td>\n",
       "      <td>0.666667</td>\n",
       "      <td>0.468288</td>\n",
       "      <td>0.500</td>\n",
       "      <td>0.5</td>\n",
       "      <td>0.0</td>\n",
       "      <td>0.333333</td>\n",
       "      <td>0.158115</td>\n",
       "    </tr>\n",
       "    <tr>\n",
       "      <th>3</th>\n",
       "      <td>0.871986</td>\n",
       "      <td>1.0</td>\n",
       "      <td>0.218055</td>\n",
       "      <td>0.400000</td>\n",
       "      <td>0.640093</td>\n",
       "      <td>0.375</td>\n",
       "      <td>0.5</td>\n",
       "      <td>1.0</td>\n",
       "      <td>0.000000</td>\n",
       "      <td>0.053555</td>\n",
       "    </tr>\n",
       "    <tr>\n",
       "      <th>4</th>\n",
       "      <td>0.260494</td>\n",
       "      <td>0.0</td>\n",
       "      <td>0.186950</td>\n",
       "      <td>0.600000</td>\n",
       "      <td>0.095805</td>\n",
       "      <td>0.125</td>\n",
       "      <td>0.0</td>\n",
       "      <td>1.0</td>\n",
       "      <td>0.333333</td>\n",
       "      <td>0.073651</td>\n",
       "    </tr>\n",
       "  </tbody>\n",
       "</table>\n",
       "</div>"
      ],
      "text/plain": [
       "   Item_Weight  Item_Fat_Content  Item_Visibility  Item_Type  Item_MRP  \\\n",
       "0     0.282525               0.0         0.038399   0.266667  0.927507   \n",
       "1     0.081274               1.0         0.048346   0.933333  0.072068   \n",
       "2     0.770765               0.0         0.040593   0.666667  0.468288   \n",
       "3     0.871986               1.0         0.218055   0.400000  0.640093   \n",
       "4     0.260494               0.0         0.186950   0.600000  0.095805   \n",
       "\n",
       "   Outlet_Establishment_Year  Outlet_Size  Outlet_Location_Type  Outlet_Type  \\\n",
       "0                      0.500          0.5                   0.0     0.333333   \n",
       "1                      1.000          0.5                   1.0     0.666667   \n",
       "2                      0.500          0.5                   0.0     0.333333   \n",
       "3                      0.375          0.5                   1.0     0.000000   \n",
       "4                      0.125          0.0                   1.0     0.333333   \n",
       "\n",
       "   Item_Outlet_Sales  \n",
       "0           0.283587  \n",
       "1           0.031419  \n",
       "2           0.158115  \n",
       "3           0.053555  \n",
       "4           0.073651  "
      ]
     },
     "execution_count": 17,
     "metadata": {},
     "output_type": "execute_result"
    }
   ],
   "source": [
    "scaler = MinMaxScaler()\n",
    "df_scaled = pd.DataFrame(scaler.fit_transform(imp.to_numpy()),columns=imp.columns)\n",
    "df_scaled.head()"
   ]
  },
  {
   "cell_type": "markdown",
   "id": "7db97ea3",
   "metadata": {},
   "source": [
    "### Checking correlation"
   ]
  },
  {
   "cell_type": "code",
   "execution_count": 18,
   "id": "36553243",
   "metadata": {},
   "outputs": [
    {
     "data": {
      "text/html": [
       "<style type=\"text/css\">\n",
       "#T_09483_row0_col0, #T_09483_row1_col1, #T_09483_row2_col2, #T_09483_row3_col3, #T_09483_row4_col4, #T_09483_row5_col5, #T_09483_row6_col6, #T_09483_row7_col7, #T_09483_row8_col8, #T_09483_row9_col9 {\n",
       "  background-color: #b40426;\n",
       "  color: #f1f1f1;\n",
       "}\n",
       "#T_09483_row0_col1 {\n",
       "  background-color: #5977e3;\n",
       "  color: #f1f1f1;\n",
       "}\n",
       "#T_09483_row0_col2, #T_09483_row5_col3, #T_09483_row7_col1, #T_09483_row7_col2, #T_09483_row7_col3, #T_09483_row7_col5, #T_09483_row8_col3 {\n",
       "  background-color: #6384eb;\n",
       "  color: #f1f1f1;\n",
       "}\n",
       "#T_09483_row0_col3 {\n",
       "  background-color: #6c8ff1;\n",
       "  color: #f1f1f1;\n",
       "}\n",
       "#T_09483_row0_col4 {\n",
       "  background-color: #485fd1;\n",
       "  color: #f1f1f1;\n",
       "}\n",
       "#T_09483_row0_col5, #T_09483_row1_col5, #T_09483_row4_col5 {\n",
       "  background-color: #5673e0;\n",
       "  color: #f1f1f1;\n",
       "}\n",
       "#T_09483_row0_col6, #T_09483_row1_col7, #T_09483_row3_col7, #T_09483_row4_col7 {\n",
       "  background-color: #b7cff9;\n",
       "  color: #000000;\n",
       "}\n",
       "#T_09483_row0_col7, #T_09483_row1_col6, #T_09483_row3_col6, #T_09483_row4_col6 {\n",
       "  background-color: #b6cefa;\n",
       "  color: #000000;\n",
       "}\n",
       "#T_09483_row0_col8, #T_09483_row3_col8, #T_09483_row8_col6 {\n",
       "  background-color: #7ea1fa;\n",
       "  color: #f1f1f1;\n",
       "}\n",
       "#T_09483_row0_col9 {\n",
       "  background-color: #5f7fe8;\n",
       "  color: #f1f1f1;\n",
       "}\n",
       "#T_09483_row1_col0, #T_09483_row1_col3, #T_09483_row2_col4, #T_09483_row2_col5, #T_09483_row2_col9, #T_09483_row3_col1, #T_09483_row6_col7, #T_09483_row6_col8, #T_09483_row7_col6, #T_09483_row8_col2 {\n",
       "  background-color: #3b4cc0;\n",
       "  color: #f1f1f1;\n",
       "}\n",
       "#T_09483_row1_col2 {\n",
       "  background-color: #779af7;\n",
       "  color: #f1f1f1;\n",
       "}\n",
       "#T_09483_row1_col4, #T_09483_row6_col4 {\n",
       "  background-color: #3c4ec2;\n",
       "  color: #f1f1f1;\n",
       "}\n",
       "#T_09483_row1_col8, #T_09483_row4_col8 {\n",
       "  background-color: #7da0f9;\n",
       "  color: #f1f1f1;\n",
       "}\n",
       "#T_09483_row1_col9 {\n",
       "  background-color: #5d7ce6;\n",
       "  color: #f1f1f1;\n",
       "}\n",
       "#T_09483_row2_col0 {\n",
       "  background-color: #3e51c5;\n",
       "  color: #f1f1f1;\n",
       "}\n",
       "#T_09483_row2_col1, #T_09483_row6_col2 {\n",
       "  background-color: #7093f3;\n",
       "  color: #f1f1f1;\n",
       "}\n",
       "#T_09483_row2_col3, #T_09483_row3_col5 {\n",
       "  background-color: #5875e1;\n",
       "  color: #f1f1f1;\n",
       "}\n",
       "#T_09483_row2_col6 {\n",
       "  background-color: #bcd2f7;\n",
       "  color: #000000;\n",
       "}\n",
       "#T_09483_row2_col7 {\n",
       "  background-color: #b2ccfb;\n",
       "  color: #000000;\n",
       "}\n",
       "#T_09483_row2_col8, #T_09483_row4_col0 {\n",
       "  background-color: #4f69d9;\n",
       "  color: #f1f1f1;\n",
       "}\n",
       "#T_09483_row3_col0, #T_09483_row9_col5 {\n",
       "  background-color: #4e68d8;\n",
       "  color: #f1f1f1;\n",
       "}\n",
       "#T_09483_row3_col2 {\n",
       "  background-color: #5e7de7;\n",
       "  color: #f1f1f1;\n",
       "}\n",
       "#T_09483_row3_col4, #T_09483_row8_col5, #T_09483_row9_col0, #T_09483_row9_col2 {\n",
       "  background-color: #4a63d3;\n",
       "  color: #f1f1f1;\n",
       "}\n",
       "#T_09483_row3_col9 {\n",
       "  background-color: #6180e9;\n",
       "  color: #f1f1f1;\n",
       "}\n",
       "#T_09483_row4_col1, #T_09483_row5_col1, #T_09483_row6_col1, #T_09483_row6_col3, #T_09483_row8_col1 {\n",
       "  background-color: #6282ea;\n",
       "  color: #f1f1f1;\n",
       "}\n",
       "#T_09483_row4_col2 {\n",
       "  background-color: #6687ed;\n",
       "  color: #f1f1f1;\n",
       "}\n",
       "#T_09483_row4_col3 {\n",
       "  background-color: #6f92f3;\n",
       "  color: #f1f1f1;\n",
       "}\n",
       "#T_09483_row4_col9 {\n",
       "  background-color: #f7ba9f;\n",
       "  color: #000000;\n",
       "}\n",
       "#T_09483_row5_col0, #T_09483_row6_col0, #T_09483_row8_col0 {\n",
       "  background-color: #445acc;\n",
       "  color: #f1f1f1;\n",
       "}\n",
       "#T_09483_row5_col2 {\n",
       "  background-color: #4c66d6;\n",
       "  color: #f1f1f1;\n",
       "}\n",
       "#T_09483_row5_col4, #T_09483_row7_col4, #T_09483_row8_col4 {\n",
       "  background-color: #3d50c3;\n",
       "  color: #f1f1f1;\n",
       "}\n",
       "#T_09483_row5_col6, #T_09483_row7_col8 {\n",
       "  background-color: #eed0c0;\n",
       "  color: #000000;\n",
       "}\n",
       "#T_09483_row5_col7 {\n",
       "  background-color: #bfd3f6;\n",
       "  color: #000000;\n",
       "}\n",
       "#T_09483_row5_col8 {\n",
       "  background-color: #7295f4;\n",
       "  color: #f1f1f1;\n",
       "}\n",
       "#T_09483_row5_col9 {\n",
       "  background-color: #506bda;\n",
       "  color: #f1f1f1;\n",
       "}\n",
       "#T_09483_row6_col5 {\n",
       "  background-color: #bbd1f8;\n",
       "  color: #000000;\n",
       "}\n",
       "#T_09483_row6_col9 {\n",
       "  background-color: #465ecf;\n",
       "  color: #f1f1f1;\n",
       "}\n",
       "#T_09483_row7_col0 {\n",
       "  background-color: #4358cb;\n",
       "  color: #f1f1f1;\n",
       "}\n",
       "#T_09483_row7_col9 {\n",
       "  background-color: #7a9df8;\n",
       "  color: #f1f1f1;\n",
       "}\n",
       "#T_09483_row8_col7 {\n",
       "  background-color: #f7b89c;\n",
       "  color: #000000;\n",
       "}\n",
       "#T_09483_row8_col9 {\n",
       "  background-color: #c7d7f0;\n",
       "  color: #000000;\n",
       "}\n",
       "#T_09483_row9_col1 {\n",
       "  background-color: #6788ee;\n",
       "  color: #f1f1f1;\n",
       "}\n",
       "#T_09483_row9_col3 {\n",
       "  background-color: #6a8bef;\n",
       "  color: #f1f1f1;\n",
       "}\n",
       "#T_09483_row9_col4 {\n",
       "  background-color: #f5c4ac;\n",
       "  color: #000000;\n",
       "}\n",
       "#T_09483_row9_col6 {\n",
       "  background-color: #aac7fd;\n",
       "  color: #000000;\n",
       "}\n",
       "#T_09483_row9_col7 {\n",
       "  background-color: #ccd9ed;\n",
       "  color: #000000;\n",
       "}\n",
       "#T_09483_row9_col8 {\n",
       "  background-color: #dadce0;\n",
       "  color: #000000;\n",
       "}\n",
       "</style>\n",
       "<table id=\"T_09483\">\n",
       "  <thead>\n",
       "    <tr>\n",
       "      <th class=\"blank level0\" >&nbsp;</th>\n",
       "      <th id=\"T_09483_level0_col0\" class=\"col_heading level0 col0\" >Item_Weight</th>\n",
       "      <th id=\"T_09483_level0_col1\" class=\"col_heading level0 col1\" >Item_Fat_Content</th>\n",
       "      <th id=\"T_09483_level0_col2\" class=\"col_heading level0 col2\" >Item_Visibility</th>\n",
       "      <th id=\"T_09483_level0_col3\" class=\"col_heading level0 col3\" >Item_Type</th>\n",
       "      <th id=\"T_09483_level0_col4\" class=\"col_heading level0 col4\" >Item_MRP</th>\n",
       "      <th id=\"T_09483_level0_col5\" class=\"col_heading level0 col5\" >Outlet_Establishment_Year</th>\n",
       "      <th id=\"T_09483_level0_col6\" class=\"col_heading level0 col6\" >Outlet_Size</th>\n",
       "      <th id=\"T_09483_level0_col7\" class=\"col_heading level0 col7\" >Outlet_Location_Type</th>\n",
       "      <th id=\"T_09483_level0_col8\" class=\"col_heading level0 col8\" >Outlet_Type</th>\n",
       "      <th id=\"T_09483_level0_col9\" class=\"col_heading level0 col9\" >Item_Outlet_Sales</th>\n",
       "    </tr>\n",
       "  </thead>\n",
       "  <tbody>\n",
       "    <tr>\n",
       "      <th id=\"T_09483_level0_row0\" class=\"row_heading level0 row0\" >Item_Weight</th>\n",
       "      <td id=\"T_09483_row0_col0\" class=\"data row0 col0\" >1.000000</td>\n",
       "      <td id=\"T_09483_row0_col1\" class=\"data row0 col1\" >-0.033737</td>\n",
       "      <td id=\"T_09483_row0_col2\" class=\"data row0 col2\" >-0.020472</td>\n",
       "      <td id=\"T_09483_row0_col3\" class=\"data row0 col3\" >0.031884</td>\n",
       "      <td id=\"T_09483_row0_col4\" class=\"data row0 col4\" >0.035751</td>\n",
       "      <td id=\"T_09483_row0_col5\" class=\"data row0 col5\" >0.000301</td>\n",
       "      <td id=\"T_09483_row0_col6\" class=\"data row0 col6\" >0.000944</td>\n",
       "      <td id=\"T_09483_row0_col7\" class=\"data row0 col7\" >-0.001719</td>\n",
       "      <td id=\"T_09483_row0_col8\" class=\"data row0 col8\" >0.001913</td>\n",
       "      <td id=\"T_09483_row0_col9\" class=\"data row0 col9\" >0.022272</td>\n",
       "    </tr>\n",
       "    <tr>\n",
       "      <th id=\"T_09483_level0_row1\" class=\"row_heading level0 row1\" >Item_Fat_Content</th>\n",
       "      <td id=\"T_09483_row1_col0\" class=\"data row1 col0\" >-0.033737</td>\n",
       "      <td id=\"T_09483_row1_col1\" class=\"data row1 col1\" >1.000000</td>\n",
       "      <td id=\"T_09483_row1_col2\" class=\"data row1 col2\" >0.048315</td>\n",
       "      <td id=\"T_09483_row1_col3\" class=\"data row1 col3\" >-0.147733</td>\n",
       "      <td id=\"T_09483_row1_col4\" class=\"data row1 col4\" >-0.004019</td>\n",
       "      <td id=\"T_09483_row1_col5\" class=\"data row1 col5\" >0.000142</td>\n",
       "      <td id=\"T_09483_row1_col6\" class=\"data row1 col6\" >-0.000827</td>\n",
       "      <td id=\"T_09483_row1_col7\" class=\"data row1 col7\" >0.001373</td>\n",
       "      <td id=\"T_09483_row1_col8\" class=\"data row1 col8\" >-0.000228</td>\n",
       "      <td id=\"T_09483_row1_col9\" class=\"data row1 col9\" >0.014065</td>\n",
       "    </tr>\n",
       "    <tr>\n",
       "      <th id=\"T_09483_level0_row2\" class=\"row_heading level0 row2\" >Item_Visibility</th>\n",
       "      <td id=\"T_09483_row2_col0\" class=\"data row2 col0\" >-0.020472</td>\n",
       "      <td id=\"T_09483_row2_col1\" class=\"data row2 col1\" >0.048315</td>\n",
       "      <td id=\"T_09483_row2_col2\" class=\"data row2 col2\" >1.000000</td>\n",
       "      <td id=\"T_09483_row2_col3\" class=\"data row2 col3\" >-0.037821</td>\n",
       "      <td id=\"T_09483_row2_col4\" class=\"data row2 col4\" >-0.009144</td>\n",
       "      <td id=\"T_09483_row2_col5\" class=\"data row2 col5\" >-0.100123</td>\n",
       "      <td id=\"T_09483_row2_col6\" class=\"data row2 col6\" >0.026808</td>\n",
       "      <td id=\"T_09483_row2_col7\" class=\"data row2 col7\" >-0.020550</td>\n",
       "      <td id=\"T_09483_row2_col8\" class=\"data row2 col8\" >-0.172744</td>\n",
       "      <td id=\"T_09483_row2_col9\" class=\"data row2 col9\" >-0.109153</td>\n",
       "    </tr>\n",
       "    <tr>\n",
       "      <th id=\"T_09483_level0_row3\" class=\"row_heading level0 row3\" >Item_Type</th>\n",
       "      <td id=\"T_09483_row3_col0\" class=\"data row3 col0\" >0.031884</td>\n",
       "      <td id=\"T_09483_row3_col1\" class=\"data row3 col1\" >-0.147733</td>\n",
       "      <td id=\"T_09483_row3_col2\" class=\"data row3 col2\" >-0.037821</td>\n",
       "      <td id=\"T_09483_row3_col3\" class=\"data row3 col3\" >1.000000</td>\n",
       "      <td id=\"T_09483_row3_col4\" class=\"data row3 col4\" >0.043948</td>\n",
       "      <td id=\"T_09483_row3_col5\" class=\"data row3 col5\" >0.003295</td>\n",
       "      <td id=\"T_09483_row3_col6\" class=\"data row3 col6\" >-0.001080</td>\n",
       "      <td id=\"T_09483_row3_col7\" class=\"data row3 col7\" >0.002083</td>\n",
       "      <td id=\"T_09483_row3_col8\" class=\"data row3 col8\" >0.004305</td>\n",
       "      <td id=\"T_09483_row3_col9\" class=\"data row3 col9\" >0.027056</td>\n",
       "    </tr>\n",
       "    <tr>\n",
       "      <th id=\"T_09483_level0_row4\" class=\"row_heading level0 row4\" >Item_MRP</th>\n",
       "      <td id=\"T_09483_row4_col0\" class=\"data row4 col0\" >0.035751</td>\n",
       "      <td id=\"T_09483_row4_col1\" class=\"data row4 col1\" >-0.004019</td>\n",
       "      <td id=\"T_09483_row4_col2\" class=\"data row4 col2\" >-0.009144</td>\n",
       "      <td id=\"T_09483_row4_col3\" class=\"data row4 col3\" >0.043948</td>\n",
       "      <td id=\"T_09483_row4_col4\" class=\"data row4 col4\" >1.000000</td>\n",
       "      <td id=\"T_09483_row4_col5\" class=\"data row4 col5\" >0.000302</td>\n",
       "      <td id=\"T_09483_row4_col6\" class=\"data row4 col6\" >-0.001305</td>\n",
       "      <td id=\"T_09483_row4_col7\" class=\"data row4 col7\" >0.000838</td>\n",
       "      <td id=\"T_09483_row4_col8\" class=\"data row4 col8\" >0.000136</td>\n",
       "      <td id=\"T_09483_row4_col9\" class=\"data row4 col9\" >0.622803</td>\n",
       "    </tr>\n",
       "    <tr>\n",
       "      <th id=\"T_09483_level0_row5\" class=\"row_heading level0 row5\" >Outlet_Establishment_Year</th>\n",
       "      <td id=\"T_09483_row5_col0\" class=\"data row5 col0\" >0.000301</td>\n",
       "      <td id=\"T_09483_row5_col1\" class=\"data row5 col1\" >0.000142</td>\n",
       "      <td id=\"T_09483_row5_col2\" class=\"data row5 col2\" >-0.100123</td>\n",
       "      <td id=\"T_09483_row5_col3\" class=\"data row5 col3\" >0.003295</td>\n",
       "      <td id=\"T_09483_row5_col4\" class=\"data row5 col4\" >0.000302</td>\n",
       "      <td id=\"T_09483_row5_col5\" class=\"data row5 col5\" >1.000000</td>\n",
       "      <td id=\"T_09483_row5_col6\" class=\"data row5 col6\" >0.323491</td>\n",
       "      <td id=\"T_09483_row5_col7\" class=\"data row5 col7\" >0.041889</td>\n",
       "      <td id=\"T_09483_row5_col8\" class=\"data row5 col8\" >-0.040255</td>\n",
       "      <td id=\"T_09483_row5_col9\" class=\"data row5 col9\" >-0.028736</td>\n",
       "    </tr>\n",
       "    <tr>\n",
       "      <th id=\"T_09483_level0_row6\" class=\"row_heading level0 row6\" >Outlet_Size</th>\n",
       "      <td id=\"T_09483_row6_col0\" class=\"data row6 col0\" >0.000944</td>\n",
       "      <td id=\"T_09483_row6_col1\" class=\"data row6 col1\" >-0.000827</td>\n",
       "      <td id=\"T_09483_row6_col2\" class=\"data row6 col2\" >0.026808</td>\n",
       "      <td id=\"T_09483_row6_col3\" class=\"data row6 col3\" >-0.001080</td>\n",
       "      <td id=\"T_09483_row6_col4\" class=\"data row6 col4\" >-0.001305</td>\n",
       "      <td id=\"T_09483_row6_col5\" class=\"data row6 col5\" >0.323491</td>\n",
       "      <td id=\"T_09483_row6_col6\" class=\"data row6 col6\" >1.000000</td>\n",
       "      <td id=\"T_09483_row6_col7\" class=\"data row6 col7\" >-0.590677</td>\n",
       "      <td id=\"T_09483_row6_col8\" class=\"data row6 col8\" >-0.260496</td>\n",
       "      <td id=\"T_09483_row6_col9\" class=\"data row6 col9\" >-0.062001</td>\n",
       "    </tr>\n",
       "    <tr>\n",
       "      <th id=\"T_09483_level0_row7\" class=\"row_heading level0 row7\" >Outlet_Location_Type</th>\n",
       "      <td id=\"T_09483_row7_col0\" class=\"data row7 col0\" >-0.001719</td>\n",
       "      <td id=\"T_09483_row7_col1\" class=\"data row7 col1\" >0.001373</td>\n",
       "      <td id=\"T_09483_row7_col2\" class=\"data row7 col2\" >-0.020550</td>\n",
       "      <td id=\"T_09483_row7_col3\" class=\"data row7 col3\" >0.002083</td>\n",
       "      <td id=\"T_09483_row7_col4\" class=\"data row7 col4\" >0.000838</td>\n",
       "      <td id=\"T_09483_row7_col5\" class=\"data row7 col5\" >0.041889</td>\n",
       "      <td id=\"T_09483_row7_col6\" class=\"data row7 col6\" >-0.590677</td>\n",
       "      <td id=\"T_09483_row7_col7\" class=\"data row7 col7\" >1.000000</td>\n",
       "      <td id=\"T_09483_row7_col8\" class=\"data row7 col8\" >0.467251</td>\n",
       "      <td id=\"T_09483_row7_col9\" class=\"data row7 col9\" >0.107565</td>\n",
       "    </tr>\n",
       "    <tr>\n",
       "      <th id=\"T_09483_level0_row8\" class=\"row_heading level0 row8\" >Outlet_Type</th>\n",
       "      <td id=\"T_09483_row8_col0\" class=\"data row8 col0\" >0.001913</td>\n",
       "      <td id=\"T_09483_row8_col1\" class=\"data row8 col1\" >-0.000228</td>\n",
       "      <td id=\"T_09483_row8_col2\" class=\"data row8 col2\" >-0.172744</td>\n",
       "      <td id=\"T_09483_row8_col3\" class=\"data row8 col3\" >0.004305</td>\n",
       "      <td id=\"T_09483_row8_col4\" class=\"data row8 col4\" >0.000136</td>\n",
       "      <td id=\"T_09483_row8_col5\" class=\"data row8 col5\" >-0.040255</td>\n",
       "      <td id=\"T_09483_row8_col6\" class=\"data row8 col6\" >-0.260496</td>\n",
       "      <td id=\"T_09483_row8_col7\" class=\"data row8 col7\" >0.467251</td>\n",
       "      <td id=\"T_09483_row8_col8\" class=\"data row8 col8\" >1.000000</td>\n",
       "      <td id=\"T_09483_row8_col9\" class=\"data row8 col9\" >0.359421</td>\n",
       "    </tr>\n",
       "    <tr>\n",
       "      <th id=\"T_09483_level0_row9\" class=\"row_heading level0 row9\" >Item_Outlet_Sales</th>\n",
       "      <td id=\"T_09483_row9_col0\" class=\"data row9 col0\" >0.022272</td>\n",
       "      <td id=\"T_09483_row9_col1\" class=\"data row9 col1\" >0.014065</td>\n",
       "      <td id=\"T_09483_row9_col2\" class=\"data row9 col2\" >-0.109153</td>\n",
       "      <td id=\"T_09483_row9_col3\" class=\"data row9 col3\" >0.027056</td>\n",
       "      <td id=\"T_09483_row9_col4\" class=\"data row9 col4\" >0.622803</td>\n",
       "      <td id=\"T_09483_row9_col5\" class=\"data row9 col5\" >-0.028736</td>\n",
       "      <td id=\"T_09483_row9_col6\" class=\"data row9 col6\" >-0.062001</td>\n",
       "      <td id=\"T_09483_row9_col7\" class=\"data row9 col7\" >0.107565</td>\n",
       "      <td id=\"T_09483_row9_col8\" class=\"data row9 col8\" >0.359421</td>\n",
       "      <td id=\"T_09483_row9_col9\" class=\"data row9 col9\" >1.000000</td>\n",
       "    </tr>\n",
       "  </tbody>\n",
       "</table>\n"
      ],
      "text/plain": [
       "<pandas.io.formats.style.Styler at 0x25784b9b250>"
      ]
     },
     "execution_count": 18,
     "metadata": {},
     "output_type": "execute_result"
    }
   ],
   "source": [
    "corr = df_scaled.corr()\n",
    "corr.style.background_gradient(cmap='coolwarm')"
   ]
  },
  {
   "cell_type": "code",
   "execution_count": 15,
   "id": "64550301",
   "metadata": {},
   "outputs": [
    {
     "data": {
      "text/plain": [
       "Item_Outlet_Sales            1.000000\n",
       "Item_MRP                     0.622803\n",
       "Outlet_Type                  0.359421\n",
       "Item_Visibility              0.109153\n",
       "Outlet_Location_Type         0.107565\n",
       "Outlet_Size                  0.062001\n",
       "Outlet_Establishment_Year    0.028736\n",
       "Item_Type                    0.027056\n",
       "Item_Weight                  0.022272\n",
       "Item_Fat_Content             0.014065\n",
       "Name: Item_Outlet_Sales, dtype: float64"
      ]
     },
     "execution_count": 15,
     "metadata": {},
     "output_type": "execute_result"
    }
   ],
   "source": [
    "corr = abs(df_scaled.corr())\n",
    "corr['Item_Outlet_Sales'].sort_values(ascending=False)"
   ]
  },
  {
   "cell_type": "markdown",
   "id": "35ada36a",
   "metadata": {},
   "source": [
    "### <center><div class=\"alert alert-info\">MODEL BUILDING AND TRAINING</div>"
   ]
  },
  {
   "cell_type": "markdown",
   "id": "f6e3a68a",
   "metadata": {},
   "source": [
    "## 1. Linear Regressor"
   ]
  },
  {
   "cell_type": "markdown",
   "id": "b42ec404",
   "metadata": {},
   "source": [
    "### Linear Regression for Univariate feature\n"
   ]
  },
  {
   "cell_type": "markdown",
   "id": "746cdfb5",
   "metadata": {},
   "source": [
    "#### Splitting the data using Train Test Split"
   ]
  },
  {
   "cell_type": "code",
   "execution_count": 18,
   "id": "39a664ff",
   "metadata": {},
   "outputs": [],
   "source": [
    "x1 = np.array(imp['Item_MRP']).reshape(-1,1)\n",
    "y1 = np.array(imp['Item_Outlet_Sales'])\n",
    "\n",
    "x1_train, x1_test, y1_train, y1_test = train_test_split(x1,y1, test_size=0.3, random_state=5)"
   ]
  },
  {
   "cell_type": "code",
   "execution_count": 19,
   "id": "fa159ad5",
   "metadata": {},
   "outputs": [
    {
     "name": "stdout",
     "output_type": "stream",
     "text": [
      "Predicted Response is: [3607.5458626  1546.06386515 1631.0508941  ... 1465.70767944 2698.34347798\n",
      " 3589.4335665 ]\n"
     ]
    }
   ],
   "source": [
    "lin_model1 = LinearRegression().fit(x1_train, y1_train)     #building and training the model\n",
    "y_pred1 = lin_model1.predict(x1_test)\n",
    "print('Predicted Response is:', y_pred1)"
   ]
  },
  {
   "cell_type": "code",
   "execution_count": 20,
   "id": "ec02cc6c",
   "metadata": {},
   "outputs": [
    {
     "name": "stdout",
     "output_type": "stream",
     "text": [
      "Training : 38.866\n",
      "Testing : 38.602\n"
     ]
    }
   ],
   "source": [
    "lin_perf_tr1 = round(lin_model1.score(x1_train, y1_train)*100,3)\n",
    "lin_perf_ts1 = round(lin_model1.score(x1_test, y1_test)*100,3)\n",
    "print('Training :', lin_perf_tr1)\n",
    "print('Testing :',lin_perf_ts1)"
   ]
  },
  {
   "cell_type": "code",
   "execution_count": 54,
   "id": "ad4018cc",
   "metadata": {},
   "outputs": [
    {
     "name": "stdout",
     "output_type": "stream",
     "text": [
      "MSE: 1473989.99\n",
      "RMSE: 1214.08\n"
     ]
    }
   ],
   "source": [
    "mse1 = round(mean_squared_error(y1_test, y_pred1),2)\n",
    "rmse1 = round(mean_squared_error(y1_test, y_pred1, squared=False),2)\n",
    "\n",
    "print('MSE:', mse1)\n",
    "print( 'RMSE:', rmse1)"
   ]
  },
  {
   "cell_type": "markdown",
   "id": "3df6d26f",
   "metadata": {},
   "source": [
    "### Linear Regression for Bivariate Feature"
   ]
  },
  {
   "cell_type": "markdown",
   "id": "8da99bb4",
   "metadata": {},
   "source": [
    "#### Splitting the data using Train Test Split"
   ]
  },
  {
   "cell_type": "code",
   "execution_count": 22,
   "id": "27b39991",
   "metadata": {},
   "outputs": [],
   "source": [
    "x2 = np.array(imp[['Item_MRP','Outlet_Type']]).reshape(-1,2)\n",
    "y2 = np.array(imp['Item_Outlet_Sales'])\n",
    "\n",
    "x2_train, x2_test, y2_train, y2_test = train_test_split(x2,y2, test_size=0.3, random_state=5)"
   ]
  },
  {
   "cell_type": "code",
   "execution_count": 23,
   "id": "b611fa4f",
   "metadata": {},
   "outputs": [
    {
     "name": "stdout",
     "output_type": "stream",
     "text": [
      "Predicted Response is: [3460.48391374  704.94151218 1490.00886724 ... 1325.16924772 1853.71156212\n",
      " 2742.08760739]\n"
     ]
    }
   ],
   "source": [
    "lin_model2 = LinearRegression().fit(x2_train, y2_train)     #building and training the model\n",
    "y_pred2 = lin_model2.predict(x2_test)\n",
    "print('Predicted Response is:', y_pred2)"
   ]
  },
  {
   "cell_type": "code",
   "execution_count": 24,
   "id": "c4d964d4",
   "metadata": {},
   "outputs": [
    {
     "name": "stdout",
     "output_type": "stream",
     "text": [
      "Training : 51.698\n",
      "Testing : 51.704\n"
     ]
    }
   ],
   "source": [
    "lin_perf_tr2 = round(lin_model2.score(x2_train, y2_train)*100,3)\n",
    "lin_perf_ts2 = round(lin_model2.score(x2_test, y2_test)*100,3)\n",
    "print('Training :', lin_perf_tr2)\n",
    "print('Testing :',lin_perf_ts2)"
   ]
  },
  {
   "cell_type": "code",
   "execution_count": 55,
   "id": "51fdb280",
   "metadata": {},
   "outputs": [
    {
     "name": "stdout",
     "output_type": "stream",
     "text": [
      "MSE: 1159440.04\n",
      "RMSE: 1076.77\n"
     ]
    }
   ],
   "source": [
    "mse2 = round(mean_squared_error(y2_test, y_pred2),2)\n",
    "rmse2 = round(mean_squared_error(y2_test, y_pred2, squared=False),2)\n",
    "\n",
    "print('MSE:', mse2)\n",
    "print( 'RMSE:', rmse2)"
   ]
  },
  {
   "cell_type": "markdown",
   "id": "076457ce",
   "metadata": {},
   "source": [
    "### Linear Regression using All Features"
   ]
  },
  {
   "cell_type": "markdown",
   "id": "a1f0983c",
   "metadata": {},
   "source": [
    "#### Splitting the data using Train Test Split"
   ]
  },
  {
   "cell_type": "code",
   "execution_count": 26,
   "id": "081f4375",
   "metadata": {},
   "outputs": [],
   "source": [
    "x3 = np.array(imp.drop(['Item_Outlet_Sales'],axis=1))\n",
    "y3 = np.array(imp['Item_Outlet_Sales'])\n",
    "\n",
    "x3_train, x3_test, y3_train, y3_test = train_test_split(x3,y3, test_size=0.3, random_state=5)"
   ]
  },
  {
   "cell_type": "code",
   "execution_count": 27,
   "id": "082861fa",
   "metadata": {},
   "outputs": [
    {
     "name": "stdout",
     "output_type": "stream",
     "text": [
      "Predicted Response is: [3430.16699579  802.87940542 1520.77831225 ... 1348.84808053 1429.0490361\n",
      " 2917.86021602]\n"
     ]
    }
   ],
   "source": [
    "lin_model3 = LinearRegression().fit(x3_train, y3_train)     #building and training the model\n",
    "y_pred3 = lin_model3.predict(x3_test)\n",
    "print('Predicted Response is:', y_pred3)"
   ]
  },
  {
   "cell_type": "code",
   "execution_count": 28,
   "id": "fddb664d",
   "metadata": {},
   "outputs": [
    {
     "name": "stdout",
     "output_type": "stream",
     "text": [
      "Training : 52.527\n",
      "Testing : 51.944\n"
     ]
    }
   ],
   "source": [
    "lin_perf_tr3 = round(lin_model3.score(x3_train, y3_train)*100,3)\n",
    "lin_perf_ts3 = round(lin_model3.score(x3_test, y3_test)*100,3)\n",
    "print('Training :', lin_perf_tr3)\n",
    "print('Testing :',lin_perf_ts3)"
   ]
  },
  {
   "cell_type": "code",
   "execution_count": 56,
   "id": "201aba85",
   "metadata": {},
   "outputs": [
    {
     "name": "stdout",
     "output_type": "stream",
     "text": [
      "MSE: 1153674.36\n",
      "RMSE: 1074.09\n"
     ]
    }
   ],
   "source": [
    "mse3 = round(mean_squared_error(y3_test, y_pred3),2)\n",
    "rmse3 = round(mean_squared_error(y3_test, y_pred3, squared=False),2)\n",
    "\n",
    "print('MSE:', mse3)\n",
    "print( 'RMSE:', rmse3)"
   ]
  },
  {
   "cell_type": "markdown",
   "id": "009e7194",
   "metadata": {},
   "source": [
    "## 2. Decision Tree Regressor"
   ]
  },
  {
   "cell_type": "code",
   "execution_count": 30,
   "id": "17173871",
   "metadata": {},
   "outputs": [
    {
     "name": "stdout",
     "output_type": "stream",
     "text": [
      "Train data [ 4735  4736  4737 ... 14201 14202 14203] Test data [   0    1    2 ... 4732 4733 4734]\n",
      "Train data [    0     1     2 ... 14201 14202 14203] Test data [4735 4736 4737 ... 9467 9468 9469]\n",
      "Train data [   0    1    2 ... 9467 9468 9469] Test data [ 9470  9471  9472 ... 14201 14202 14203]\n"
     ]
    }
   ],
   "source": [
    "from sklearn.model_selection import KFold\n",
    "x = np.array(imp.drop(columns='Item_Outlet_Sales', axis =1))\n",
    "y = np.array(imp['Item_Outlet_Sales'])\n",
    "kf = KFold(n_splits=3, shuffle=False, random_state=None)\n",
    "for train, test in kf.split(x,y):\n",
    "    print(\"Train data\",train,\"Test data\",test)\n",
    "    x4_train,x4_test = x[train], x[test]\n",
    "    y4_train,y4_test = y[train], y[test]"
   ]
  },
  {
   "cell_type": "code",
   "execution_count": 33,
   "id": "25476292",
   "metadata": {},
   "outputs": [],
   "source": [
    "# Importing Library\n",
    "from sklearn.tree import DecisionTreeRegressor"
   ]
  },
  {
   "cell_type": "code",
   "execution_count": 34,
   "id": "aaa9932c",
   "metadata": {},
   "outputs": [
    {
     "name": "stdout",
     "output_type": "stream",
     "text": [
      "For max depth: 2\n",
      "RMSE Score : 1236.62\n",
      "\n",
      "For max depth: 3\n",
      "RMSE Score : 1219.42\n",
      "\n",
      "For max depth: 4\n",
      "RMSE Score : 1217.54\n",
      "\n",
      "For max depth: 5\n",
      "RMSE Score : 1223.03\n",
      "\n",
      "For max depth: 6\n",
      "RMSE Score : 1233.19\n",
      "\n",
      "For max depth: 8\n",
      "RMSE Score : 1260.34\n",
      "\n",
      "For max depth: 10\n",
      "RMSE Score : 1287.58\n",
      "\n"
     ]
    }
   ],
   "source": [
    "# importing library\n",
    "from sklearn.model_selection import cross_val_score\n",
    "# defining function to calculate least rmse value on the respective depth\n",
    "def rmse(score):\n",
    "    rmse = np.sqrt(-score)\n",
    "    print(f'RMSE Score : {rmse.round(2)}')\n",
    "    print()\n",
    "max_depth = [2,3,4,5,6,8,10]\n",
    "for val in max_depth:\n",
    "    score = cross_val_score(DecisionTreeRegressor(max_depth=val,random_state=5), x1,y1, cv=kf, scoring=\"neg_mean_squared_error\")\n",
    "    print(f'For max depth: {val}')\n",
    "    rmse(score.mean())"
   ]
  },
  {
   "cell_type": "markdown",
   "id": "c20ecb14",
   "metadata": {},
   "source": [
    "### <div class=\"alert alert-success\">Interpretation</div>\n",
    "    - On the Basis of above values we can use 4 as a maximum depth as it gives us the least RMSE of 1217.54"
   ]
  },
  {
   "cell_type": "code",
   "execution_count": 35,
   "id": "37a5a879",
   "metadata": {},
   "outputs": [
    {
     "name": "stdout",
     "output_type": "stream",
     "text": [
      "Prediction : [ 769.06238217 2780.7547829  1354.54738752 ... 1708.54384065 3837.42739864\n",
      " 1708.54384065]\n"
     ]
    }
   ],
   "source": [
    "tree_model = DecisionTreeRegressor(max_depth=4).fit(x4_train, y4_train)\n",
    "y_pred4 = tree_model.predict(x4_test)\n",
    "print('Prediction :',y_pred4)"
   ]
  },
  {
   "cell_type": "code",
   "execution_count": 36,
   "id": "f4f82f75",
   "metadata": {},
   "outputs": [
    {
     "name": "stdout",
     "output_type": "stream",
     "text": [
      "Training Performance : 58.021874940158526\n",
      "Testing Performance : 50.70997231729323\n"
     ]
    }
   ],
   "source": [
    "tree_tr_per = tree_model.score(x4_train, y4_train)*100\n",
    "print('Training Performance :',tree_tr_per)\n",
    "tree_tes_per = tree_model.score(x4_test, y4_test)*100\n",
    "print('Testing Performance :',tree_tes_per)"
   ]
  },
  {
   "cell_type": "code",
   "execution_count": 57,
   "id": "3cff4880",
   "metadata": {},
   "outputs": [
    {
     "name": "stdout",
     "output_type": "stream",
     "text": [
      "MSE: 809775.31\n",
      "RMSE: 899.88\n"
     ]
    }
   ],
   "source": [
    "mse4 = round(mean_squared_error(y4_test, y_pred4),2)\n",
    "rmse4 = round(mean_squared_error(y4_test, y_pred4, squared=False),2)\n",
    "\n",
    "print('MSE:', mse4)\n",
    "print( 'RMSE:', rmse4)"
   ]
  },
  {
   "cell_type": "code",
   "execution_count": 38,
   "id": "da3d31a1",
   "metadata": {},
   "outputs": [
    {
     "data": {
      "image/png": "[encoded data removed]",
      "text/plain": [
       "<Figure size 504x432 with 1 Axes>"
      ]
     },
     "metadata": {
      "needs_background": "light"
     },
     "output_type": "display_data"
    }
   ],
   "source": [
    "plt.figure(figsize=(7,6))\n",
    "plt.plot(y4_test,label=\"Actual\")\n",
    "plt.plot(y_pred4,color=\"green\",label=\"predicted\")\n",
    "plt.title(\"Actual Sales Vs Predicted Sales\")\n",
    "plt.legend()\n",
    "plt.show()"
   ]
  },
  {
   "cell_type": "markdown",
   "id": "e5978035",
   "metadata": {},
   "source": [
    "### Interpretation - \n",
    "The Predicited points are almost matching with the Actual points."
   ]
  },
  {
   "cell_type": "markdown",
   "id": "091b33f4",
   "metadata": {},
   "source": [
    "## 3. Random Forest Regressor"
   ]
  },
  {
   "cell_type": "code",
   "execution_count": 39,
   "id": "7fae0c54",
   "metadata": {},
   "outputs": [],
   "source": [
    "# importing Library\n",
    "from sklearn.ensemble import RandomForestRegressor       # for random forest algorithm"
   ]
  },
  {
   "cell_type": "code",
   "execution_count": 40,
   "id": "548ae6af",
   "metadata": {},
   "outputs": [
    {
     "name": "stdout",
     "output_type": "stream",
     "text": [
      "For max depth: 2\n",
      "RMSE Score : 1229.37\n",
      "\n",
      "For max depth: 3\n",
      "RMSE Score : 1215.46\n",
      "\n",
      "For max depth: 4\n",
      "RMSE Score : 1214.87\n",
      "\n",
      "For max depth: 5\n",
      "RMSE Score : 1215.38\n",
      "\n",
      "For max depth: 6\n",
      "RMSE Score : 1216.83\n",
      "\n",
      "For max depth: 8\n",
      "RMSE Score : 1223.54\n",
      "\n",
      "For max depth: 10\n",
      "RMSE Score : 1235.19\n",
      "\n"
     ]
    }
   ],
   "source": [
    "# defining function to calculate least rmse value on the respective depth\n",
    "def rmse(score):\n",
    "    rmse = np.sqrt(-score)\n",
    "    print(f'RMSE Score : {rmse.round(2)}')\n",
    "    print()\n",
    "max_depth = [2,3,4,5,6,8,10]\n",
    "for val in max_depth:\n",
    "    score = cross_val_score(RandomForestRegressor(max_depth=val,random_state=5), x1,y1, cv=kf, scoring=\"neg_mean_squared_error\")\n",
    "    print(f'For max depth: {val}')\n",
    "    rmse(score.mean())"
   ]
  },
  {
   "cell_type": "markdown",
   "id": "f348a996",
   "metadata": {},
   "source": [
    "### Interpretation\n",
    "    - On the Basis of above values we can use 4 as a maximum depth as it gives us the least RMSE of 1214.87"
   ]
  },
  {
   "cell_type": "code",
   "execution_count": 41,
   "id": "ed367610",
   "metadata": {},
   "outputs": [
    {
     "name": "stdout",
     "output_type": "stream",
     "text": [
      "Prediction : [ 759.94946574 2721.25112893 1087.02392795 ... 1743.79586308 3777.68245058\n",
      " 1438.37443906]\n"
     ]
    }
   ],
   "source": [
    "rfr_model1 = RandomForestRegressor(max_depth=4).fit(x4_train, y4_train)\n",
    "y_pred5 = rfr_model1.predict(x4_test)\n",
    "print('Prediction :',y_pred5)"
   ]
  },
  {
   "cell_type": "code",
   "execution_count": 42,
   "id": "f097b1ce",
   "metadata": {},
   "outputs": [
    {
     "name": "stdout",
     "output_type": "stream",
     "text": [
      "Training Score is : 58.74783963950561\n",
      "Testing Score is : 52.02810125646382\n"
     ]
    }
   ],
   "source": [
    "train_score1 = rfr_model1.score(x4_train, y4_train)*100\n",
    "test_score1 = rfr_model1.score(x4_test, y4_test)*100\n",
    "print(f'Training Score is : {train_score1}\\nTesting Score is : {test_score1}')"
   ]
  },
  {
   "cell_type": "code",
   "execution_count": 60,
   "id": "0f35c38f",
   "metadata": {},
   "outputs": [
    {
     "name": "stdout",
     "output_type": "stream",
     "text": [
      "MSE: 788120.05\n",
      "RMSE: 887.76\n"
     ]
    }
   ],
   "source": [
    "mse5 = round(mean_squared_error(y4_test, y_pred5),2)\n",
    "rmse5 = round(mean_squared_error(y4_test, y_pred5, squared=False),2)\n",
    "print('MSE:', mse5)\n",
    "print( 'RMSE:', rmse5)"
   ]
  },
  {
   "cell_type": "code",
   "execution_count": 50,
   "id": "ed6770de",
   "metadata": {},
   "outputs": [
    {
     "data": {
      "image/png": "[encoded data removed]",
      "text/plain": [
       "<Figure size 504x432 with 1 Axes>"
      ]
     },
     "metadata": {
      "needs_background": "light"
     },
     "output_type": "display_data"
    }
   ],
   "source": [
    "plt.figure(figsize=(7,6))\n",
    "plt.plot(y4_test,label=\"Actual\")\n",
    "plt.plot(y_pred5,color=\"green\",label=\"predicted\")\n",
    "plt.title(\"Actual Sales Vs Predicted Sales\")\n",
    "plt.legend()\n",
    "plt.show()"
   ]
  },
  {
   "cell_type": "markdown",
   "id": "6fd653bd",
   "metadata": {},
   "source": [
    "### Interpretation - \n",
    "The Predicited points are almost matching with the Actual points."
   ]
  },
  {
   "cell_type": "markdown",
   "id": "a08ff969",
   "metadata": {},
   "source": [
    "## 4. Stacking"
   ]
  },
  {
   "cell_type": "code",
   "execution_count": 44,
   "id": "ba2db5d3",
   "metadata": {},
   "outputs": [],
   "source": [
    "# importing library\n",
    "from sklearn.neighbors import KNeighborsRegressor\n",
    "from sklearn.svm import SVR\n",
    "from sklearn.ensemble import StackingRegressor\n",
    "from sklearn.model_selection import KFold, cross_validate"
   ]
  },
  {
   "cell_type": "code",
   "execution_count": 45,
   "id": "0efbc893",
   "metadata": {},
   "outputs": [],
   "source": [
    "def get_stacking():\n",
    "    # define the base models\n",
    "    level0 = list()\n",
    "    level0.append(('lr', LinearRegression()))\n",
    "    level0.append(('knn', KNeighborsRegressor()))\n",
    "    level0.append(('cart', DecisionTreeRegressor()))\n",
    "    level0.append(('svr', SVR()))\n",
    " \n",
    "    # define meta learner model\n",
    "    level1 = LinearRegression()\n",
    " \n",
    "    # define the stacking ensemble\n",
    "    s_model = StackingRegressor(estimators=level0, final_estimator=level1, cv=5)\n",
    "    return s_model"
   ]
  },
  {
   "cell_type": "code",
   "execution_count": 46,
   "id": "0ebbc810",
   "metadata": {},
   "outputs": [
    {
     "name": "stdout",
     "output_type": "stream",
     "text": [
      "Prediction : [ 516.4819036  1857.88513069 1919.73946597 ... 1719.22976832 3412.6160616\n",
      " 1129.58283375]\n"
     ]
    }
   ],
   "source": [
    "model_new = get_stacking().fit(x4_train, y4_train)\n",
    "y_pred6 = model_new.predict(x4_test)\n",
    "print('Prediction :',y_pred6)"
   ]
  },
  {
   "cell_type": "code",
   "execution_count": 47,
   "id": "1fe9362e",
   "metadata": {},
   "outputs": [
    {
     "name": "stdout",
     "output_type": "stream",
     "text": [
      "Training Score is : 70.37508550094238\n",
      "Testing Score is : 68.39846000276533\n"
     ]
    }
   ],
   "source": [
    "st_per_tr = model_new.score(x4_train, y4_train)*100\n",
    "st_per_ts = model_new.score(x4_test, y4_test)*100\n",
    "print(f'Training Score is : {st_per_tr}\\nTesting Score is : {st_per_ts}')"
   ]
  },
  {
   "cell_type": "code",
   "execution_count": 61,
   "id": "f7262d05",
   "metadata": {},
   "outputs": [
    {
     "name": "stdout",
     "output_type": "stream",
     "text": [
      "MSE: 519174.93\n",
      "RMSE: 720.54\n"
     ]
    }
   ],
   "source": [
    "mse6 = round(mean_squared_error(y4_test, y_pred6),2)\n",
    "rmse6 = round(mean_squared_error(y4_test, y_pred6, squared=False),2)\n",
    "\n",
    "print('MSE:', mse6)\n",
    "print( 'RMSE:', rmse6)"
   ]
  },
  {
   "cell_type": "code",
   "execution_count": 51,
   "id": "5949314b",
   "metadata": {},
   "outputs": [
    {
     "data": {
      "image/png": "[encoded data removed]",
      "text/plain": [
       "<Figure size 504x432 with 1 Axes>"
      ]
     },
     "metadata": {
      "needs_background": "light"
     },
     "output_type": "display_data"
    }
   ],
   "source": [
    "plt.figure(figsize=(7,6))\n",
    "plt.plot(y4_test,label=\"Actual\")\n",
    "plt.plot(y_pred6,color=\"green\",label=\"predicted\")\n",
    "plt.title(\"Actual Sales Vs Predicted Sales\")\n",
    "plt.legend()\n",
    "plt.show()"
   ]
  },
  {
   "cell_type": "markdown",
   "id": "d4ce24cb",
   "metadata": {},
   "source": [
    "### Interpretation - \n",
    "The Predicited points are almost matching with the Actual points."
   ]
  },
  {
   "cell_type": "markdown",
   "id": "dfb33cd9",
   "metadata": {},
   "source": [
    "### <center><div class=\"alert alert-info\">COMPARISION</div>"
   ]
  },
  {
   "cell_type": "code",
   "execution_count": 62,
   "id": "94f8c058",
   "metadata": {},
   "outputs": [
    {
     "data": {
      "text/html": [
       "<div>\n",
       "<style scoped>\n",
       "    .dataframe tbody tr th:only-of-type {\n",
       "        vertical-align: middle;\n",
       "    }\n",
       "\n",
       "    .dataframe tbody tr th {\n",
       "        vertical-align: top;\n",
       "    }\n",
       "\n",
       "    .dataframe thead th {\n",
       "        text-align: right;\n",
       "    }\n",
       "</style>\n",
       "<table border=\"1\" class=\"dataframe\">\n",
       "  <thead>\n",
       "    <tr style=\"text-align: right;\">\n",
       "      <th></th>\n",
       "      <th>Train Perf</th>\n",
       "      <th>Test Perf</th>\n",
       "      <th>MSE</th>\n",
       "      <th>RMSE</th>\n",
       "    </tr>\n",
       "  </thead>\n",
       "  <tbody>\n",
       "    <tr>\n",
       "      <th>Linear Univariate</th>\n",
       "      <td>38.866000</td>\n",
       "      <td>38.602000</td>\n",
       "      <td>1473989.99</td>\n",
       "      <td>1214.08</td>\n",
       "    </tr>\n",
       "    <tr>\n",
       "      <th>Linear Bivariate</th>\n",
       "      <td>51.698000</td>\n",
       "      <td>51.704000</td>\n",
       "      <td>1159440.04</td>\n",
       "      <td>1076.77</td>\n",
       "    </tr>\n",
       "    <tr>\n",
       "      <th>Linear Multivariate</th>\n",
       "      <td>52.527000</td>\n",
       "      <td>51.944000</td>\n",
       "      <td>1153674.36</td>\n",
       "      <td>1074.09</td>\n",
       "    </tr>\n",
       "    <tr>\n",
       "      <th>Decision Tree</th>\n",
       "      <td>58.021875</td>\n",
       "      <td>50.709972</td>\n",
       "      <td>809775.31</td>\n",
       "      <td>899.88</td>\n",
       "    </tr>\n",
       "    <tr>\n",
       "      <th>Random Forest</th>\n",
       "      <td>58.747840</td>\n",
       "      <td>52.028101</td>\n",
       "      <td>788120.05</td>\n",
       "      <td>887.76</td>\n",
       "    </tr>\n",
       "    <tr>\n",
       "      <th>Stacking</th>\n",
       "      <td>70.375086</td>\n",
       "      <td>70.375086</td>\n",
       "      <td>519174.93</td>\n",
       "      <td>720.54</td>\n",
       "    </tr>\n",
       "  </tbody>\n",
       "</table>\n",
       "</div>"
      ],
      "text/plain": [
       "                     Train Perf  Test Perf         MSE     RMSE\n",
       "Linear Univariate     38.866000  38.602000  1473989.99  1214.08\n",
       "Linear Bivariate      51.698000  51.704000  1159440.04  1076.77\n",
       "Linear Multivariate   52.527000  51.944000  1153674.36  1074.09\n",
       "Decision Tree         58.021875  50.709972   809775.31   899.88\n",
       "Random Forest         58.747840  52.028101   788120.05   887.76\n",
       "Stacking              70.375086  70.375086   519174.93   720.54"
      ]
     },
     "execution_count": 62,
     "metadata": {},
     "output_type": "execute_result"
    }
   ],
   "source": [
    "compare = pd.DataFrame({'Train Perf':[lin_perf_tr1,lin_perf_tr2,lin_perf_tr3,tree_tr_per,train_score1,st_per_tr],\n",
    "                        'Test Perf':[lin_perf_ts1,lin_perf_ts2,lin_perf_ts3,tree_tes_per,test_score1,st_per_tr],\n",
    "                        'MSE':[mse1,mse2,mse3,mse4,mse5,mse6],'RMSE':[rmse1,rmse2,rmse3,rmse4,rmse5,rmse6]},\n",
    "                      index=['Linear Univariate','Linear Bivariate','Linear Multivariate','Decision Tree','Random Forest','Stacking'])\n",
    "compare"
   ]
  },
  {
   "cell_type": "markdown",
   "id": "6753c166",
   "metadata": {},
   "source": [
    "### <center><div class=\"alert alert-info\">CONCLUSION</div> \n",
    "* There were 4 models prepared for getting the best performance and prediction, Linear Regression, Decision Tree Regression, Random Forest Regression and Stacking Regression.\n",
    "* On the basis of graph and the table we obtained, Stacking can be said as best model among other models.\n",
    "    - As the Testing Performance is comparitively good than other models \n",
    "    - The MSE and RMSE errors are less than the other models.\n",
    "* Even though the Stacking Regressor Model is best among other models, the performance is not good enough giving us only 70% of performance. It is because the target column have ~40% of null values and imputing the data can be a bit biased in that case."
   ]
  },
  {
   "cell_type": "markdown",
   "id": "1a364411",
   "metadata": {},
   "source": [
    "### <center><div class=\"alert alert-info\">BUSINESS IMPLICATION</div>\n",
    "* We can see Starchy Foods have most of the sales among other food type and the outlet with starchy food will be beneficial for the sales as most of the customers prefer and cold drinks are prefered the least.\n",
    "* Most of the outlet size is medium so, Medium category have the maximum range from 1000 sales to 7000 sales and          small othlet have least sales.\n",
    "* If the outlet type is supermarket especially Supermarket type1 it have the highest count in the sales than any other type of outlet followed by Grocery Store.\n",
    "* If the item MRP is kept between 100-120 there is a high chance that the sales will be more.\n",
    "* Sales is high if Visibility is around 0.02-0.03 and least for 0.3.\n",
    "* In Item Outlet Sales graph, Most of the sales is of 1000 which is counting upto 1600.\n",
    "* Snacks are most popular item which the customers consumes. Having snacks at the market will be a great way to increase the sales."
   ]
  },
  {
   "cell_type": "code",
   "execution_count": null,
   "id": "33259208",
   "metadata": {},
   "outputs": [],
   "source": []
  }
 ],
 "metadata": {
  "kernelspec": {
   "display_name": "Python 3 (ipykernel)",
   "language": "python",
   "name": "python3"
  },
  "language_info": {
   "codemirror_mode": {
    "name": "ipython",
    "version": 3
   },
   "file_extension": ".py",
   "mimetype": "text/x-python",
   "name": "python",
   "nbconvert_exporter": "python",
   "pygments_lexer": "ipython3",
   "version": "3.9.12"
  }
 },
 "nbformat": 4,
 "nbformat_minor": 5
}
